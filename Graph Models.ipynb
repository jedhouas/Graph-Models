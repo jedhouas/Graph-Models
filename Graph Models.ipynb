{
 "cells": [
  {
   "cell_type": "markdown",
   "metadata": {},
   "source": [
    "## 1- Learning in discrete graphical models\n",
    "the way Z is presented, we see that :  $$Z \\sim M(1,\\pi) \\quad \\textrm{  (multinomial law)}$$\n",
    "which can be represented by a vector Z such that $$ Z=m \\iff Z=e_m=(0,0,....,1,...0)^T \\quad \\forall m \\in [|1,M|]$$\n",
    "and we have $p(z|\\pi)=\\prod_{k=1}^{M}\\pi_k^{z_k}$\n",
    ",now we can write the likelihood for $(z_1,z_2,...,z_n):$  \n",
    "\\begin{equation}\n",
    "l_{(z_1,z_2,...,z_n)}(\\pi)=\\prod_{i=1}^n p(z_i|\\pi) = \\prod_{k=1}^M\\pi_k^{\\sum_{i=1}^nz_{ik}}\\\\\n",
    "\\end{equation}\n",
    "and the loglikelihood is : $L(\\pi)=\\sum_{k=1}^M(\\sum_{i=1}^n z_{ik}) log(\\pi_k) $\n",
    ".  maximizing the loglikelihood can be solved by solving the problem \n",
    "\\begin{cases}\n",
    "\\max L(\\pi)\\\\\n",
    "under \\space constraint : \\\\\n",
    "\\sum\\pi_k=1\n",
    "\\end{cases}\n",
    "we consider the Lagrange multiplier : $h(\\pi)=L(\\pi)+\\lambda (1-\\sum_{k=1}^M\\pi_k)$\n",
    "\\begin{equation}\n",
    "\\frac{\\partial h}{\\partial \\pi_k} = \\frac{1}{\\pi_k} \\sum_{i=1}^n z_{ik} -\\lambda = 0 \\\\ \n",
    "\\implies \\sum_{k=1}^M \\pi_k \\lambda=\\sum_{k=1}^M \\sum_{i=1}^n z_{ik}=\\sum_{i=1}^n \\sum_{k=1}^M z_{ik}\\\\\n",
    "\\text{since } \\sum_{k=1}^M \\pi_k =1 \\quad \\text{and } \\sum_{k=1}^M z_{ik} =1 \\implies \\lambda=n\n",
    "\\end{equation}\n",
    "and finally $$\\hat{\\pi_k}=\\frac{\\sum_{i=1}^n z_{ik}}{n}$$"
   ]
  },
  {
   "cell_type": "markdown",
   "metadata": {},
   "source": [
    "same as we did before we'll represent <b>x</b> by a vector $X$ \n",
    "which can be represented by a vector Z such that $$ x=k \\iff X=e_k=(0,0,....,1,...0)^T \\quad \\forall k \\in [|1,K|]$$\n",
    "and we have $p(x|z|\\theta)=\\prod_{k=1}^{K}\\prod_{m=1}^{M}\\theta_{km}^{x_k.z_m}$\n",
    ",now we can write the likelihood for $(x_1|z_1,x_2|z_2,...,x_n|z_n):$  \n",
    "\\begin{equation}\n",
    "l_{(x_1|z_1,x_2|z_2,...,x_n|z_n)}(\\theta)=\\prod_{i=1}^n p(x_i|z_i|\\theta) = \\prod_{k=1}^{K}\\prod_{m=1}^{M}\\theta_{km}^{\\sum_{i=1}^n{x_{ik}.z_{im}}}\\\\\n",
    "\\end{equation}\n",
    "and the loglikelihood is : $L(\\theta)=\\sum_{k=1}^K\\sum_{m=1}^M(\\sum_{i=1}^n x_{ik}.z_{im}) log(\\theta_{km}) $\n",
    ".  maximizing the loglikelihood can be solved by solving the problem \n",
    "\\begin{cases}\n",
    "\\max L(\\theta)\\\\\n",
    "under \\space constraint : \\\\\n",
    "\\sum_{k=1}^K\\sum_{m=1}^M\\theta{km}*\\pi_m=1\n",
    "\\end{cases}\n",
    "we consider the Lagrange multiplier : $h(\\theta)=L(\\theta)+\\lambda (1-\\sum\\sum\\theta{km}*\\pi_m)$\n",
    "\\begin{equation}\n",
    "\\frac{\\partial h}{\\partial \\theta_{km}} = \\frac{1}{\\theta_{km}} \\sum_{i=1}^n x_{ik}.z_{im} -\\lambda \\pi_m = 0 \\\\ \n",
    "\\ \\theta_{km}.\\pi_m=\\frac{\\sum_{i=1}^nx_{ik}z_{im}}{\\lambda}\\\\\n",
    "\\text{since } \\sum_{k=1}^K\\sum_{m=1}^M\\theta{km}*\\pi_m=1 \\implies \\lambda=\\sum_{k=1}^K\\sum_{m=1}^M\\sum_{i=1}^nx_{ik}z_{im}\\\\\n",
    "\\ \\text{and also from what we did earlier } \\hat{\\pi_k}=\\frac{\\sum_{i=1}^n z_{ik}}{n}\\\\\n",
    "\\ \\text{hence } \\hat{\\theta_{km}}=\\frac{n.\\sum_{i=1}^n x_{ik}.z_{im}}{(\\sum_{i=1}^n z_{im})\\sum_{k=1}^K\\sum_{m=1}^M\\sum_{i=1}^nx_{ik}z_{im}}\n",
    "\\end{equation}"
   ]
  },
  {
   "cell_type": "code",
   "execution_count": 36,
   "metadata": {},
   "outputs": [],
   "source": [
    "import pandas as pd \n",
    "import numpy as np\n",
    "import matplotlib.pyplot as plt"
   ]
  },
  {
   "cell_type": "code",
   "execution_count": 37,
   "metadata": {},
   "outputs": [],
   "source": [
    "train=[pd.read_csv('data/train'+i,sep=\" \",header=None) for i in 'ABC']\n",
    "test=[pd.read_csv('data/test'+i,sep=\" \",header=None) for i in 'ABC']"
   ]
  },
  {
   "cell_type": "markdown",
   "metadata": {},
   "source": [
    "## 1. Generative model (LDA)"
   ]
  },
  {
   "cell_type": "markdown",
   "metadata": {},
   "source": [
    "        a. Please find the determination of the estimators in the joined PDF\n",
    "        b. Please find the form and comparaison in the joined PDF\n"
   ]
  },
  {
   "cell_type": "code",
   "execution_count": 38,
   "metadata": {},
   "outputs": [],
   "source": [
    "A_train=train[2]\n",
    "x = np.array(A_train.loc[:,0:1],dtype=\"float\")\n",
    "y = np.array(A_train.loc[:,2],dtype=\"float\")\n",
    "def pi_estimator(y):\n",
    "    return(sum(y)/len(y))\n",
    "def LDA_estimator(x,y):\n",
    "    Nu_0 = np.array([0,0],dtype=\"float\").reshape((2,1))\n",
    "    Nu_1 = np.array([0,0],dtype=\"float\").reshape((2,1))\n",
    "    sigma = np.array([[0,0],\n",
    "                      [0,0]],dtype=\"float\")\n",
    "    A=0\n",
    "    B=0\n",
    "    for k in range(len(y)):\n",
    "        Nu_0[0] = Nu_0[0] + (1-y[k])*x[k,0]\n",
    "        Nu_0[1] = Nu_0[1] + (1-y[k])*x[k,1]\n",
    "        Nu_1[0] = Nu_1[0] + y[k]*x[k,0]\n",
    "        Nu_1[1] = Nu_1[1] + y[k]*x[k,1]\n",
    "        A = A + (1-y[k])\n",
    "        B = B + y[k]\n",
    "    Nu_0[0] = Nu_0[0]/A\n",
    "    Nu_0[1] = Nu_0[1]/A\n",
    "    Nu_1[0] = Nu_1[0]/B\n",
    "    Nu_1[1] = Nu_1[1]/B\n",
    "\n",
    "    for k in range(len(y)):\n",
    "        xk = x[k].reshape((2,1))\n",
    "        sigma = sigma + (1-y[k])*np.dot(xk-Nu_0,np.transpose(xk-Nu_0)) + y[k]*np.dot(xk-Nu_1,np.transpose(xk-Nu_1))\n",
    "    \n",
    "    sigma = sigma/len(y)\n",
    "    \n",
    "    return(Nu_0,Nu_1,sigma)\n",
    "\n",
    "Nu_0,Nu_1,sigma = LDA_estimator(x,y)\n"
   ]
  },
  {
   "cell_type": "code",
   "execution_count": 39,
   "metadata": {},
   "outputs": [],
   "source": [
    "import math\n",
    "import numpy.linalg as linalg\n",
    "def Gauss(nu,sigma,x):\n",
    "    a = -0.5*np.dot(np.transpose(x-nu),np.dot(linalg.inv(sigma),(x-nu)))\n",
    "    return(math.exp(a)/(2*math.pi*math.sqrt(linalg.det(sigma))))"
   ]
  },
  {
   "cell_type": "code",
   "execution_count": 40,
   "metadata": {},
   "outputs": [],
   "source": [
    "from pynverse import inversefunc\n",
    "def one_x_dist(p,estimator,x):\n",
    "    Nu_0,Nu_1,sigma = estimator\n",
    "    return(p*Gauss(Nu_1,sigma,x)/(p*Gauss(Nu_1,sigma,x)+(1-p)*Gauss(Nu_0,sigma,x)))\n",
    "    "
   ]
  },
  {
   "cell_type": "code",
   "execution_count": 41,
   "metadata": {},
   "outputs": [
    {
     "data": {
      "text/plain": [
       "0.4166666666666667"
      ]
     },
     "execution_count": 41,
     "metadata": {},
     "output_type": "execute_result"
    }
   ],
   "source": [
    "pi_estimator(y)"
   ]
  },
  {
   "cell_type": "code",
   "execution_count": 42,
   "metadata": {},
   "outputs": [],
   "source": [
    "p = pi_estimator(y)\n",
    "estimator = LDA_estimator(x,y)\n",
    "def sep_line(u):\n",
    "    f = lambda v: one_x_dist(p,estimator,np.array([u,v]).reshape((2,1)))\n",
    "    return(inversefunc(f, y_values=0.5))\n"
   ]
  },
  {
   "cell_type": "code",
   "execution_count": 43,
   "metadata": {},
   "outputs": [
    {
     "data": {
      "text/plain": [
       "[<matplotlib.lines.Line2D at 0x1a20d06f98>]"
      ]
     },
     "execution_count": 43,
     "metadata": {},
     "output_type": "execute_result"
    },
    {
     "data": {
      "image/png": "[encoded data removed]",
      "text/plain": [
       "<Figure size 432x288 with 1 Axes>"
      ]
     },
     "metadata": {},
     "output_type": "display_data"
    }
   ],
   "source": [
    "plt.scatter(x[:,0],x[:,1],c=y)\n",
    "x0 = np.linspace(8,14,1000)\n",
    "y0 = [sep_line(u) for u in x0]\n",
    "plt.plot(x0,y0)"
   ]
  },
  {
   "cell_type": "markdown",
   "metadata": {},
   "source": [
    "## 2. Logistic regression"
   ]
  },
  {
   "cell_type": "markdown",
   "metadata": {},
   "source": [
    "   ### Quick Data visualization"
   ]
  },
  {
   "cell_type": "code",
   "execution_count": 44,
   "metadata": {},
   "outputs": [
    {
     "data": {
      "image/png": "[encoded data removed]",
      "text/plain": [
       "<Figure size 432x288 with 1 Axes>"
      ]
     },
     "metadata": {},
     "output_type": "display_data"
    }
   ],
   "source": [
    "import matplotlib.pyplot as plt \n",
    "\n",
    "# X = feature values, all the columns except the last column\n",
    "X = A_train.iloc[:, :-1]\n",
    "\n",
    "# y = target values, last column of the data frame\n",
    "y = A_train.iloc[:, -1]\n",
    "\n",
    "class_1 = A_train.loc[y == 1]\n",
    "class_0 = A_train.loc[y == 0]\n",
    "\n",
    "# plots\n",
    "plt.scatter(class_1.iloc[:, 0], class_1.iloc[:, 1], s=10, label='class_1')\n",
    "plt.scatter(class_0.iloc[:, 0], class_0.iloc[:, 1], s=10, label='class_0')\n",
    "plt.legend()\n",
    "plt.show()"
   ]
  },
  {
   "cell_type": "markdown",
   "metadata": {},
   "source": [
    "$f(x)=w^T x+b \\iff f(x)=\\tilde{w}^T \\begin{pmatrix} x\\\\ 1\\end{pmatrix} $"
   ]
  },
  {
   "cell_type": "code",
   "execution_count": 45,
   "metadata": {},
   "outputs": [],
   "source": [
    "def sigmoid(x):\n",
    "    return 1 / (1 + np.exp(-x))\n",
    "def etha(w,x):\n",
    "    return sigmoid(np.dot(w.T,x))\n",
    "def log_likelihood(w, x, y):\n",
    "    return y*np.dot(w.T,x)+np.log(sigmoid(-np.dot(w.T,x)))\n",
    "def Grad_l(w,x,y):\n",
    "    return(y-etha(w,x))*x"
   ]
  },
  {
   "cell_type": "markdown",
   "metadata": {},
   "source": [
    "in order to find the max of we can either do a gradient descent or use NEwton's method going through the hessian matrix. \n",
    "we'll use python's implementation of the BFGS algo ( pseudo-Newton) "
   ]
  },
  {
   "cell_type": "code",
   "execution_count": 46,
   "metadata": {},
   "outputs": [],
   "source": [
    "def sample_neg_logl(w,X,Y):\n",
    "    l=[0]\n",
    "    for i,x in enumerate(X) : \n",
    "        l+=-log_likelihood(w,x,Y[i])\n",
    "    return l \n",
    "def sample_neg_gradlogl(w,X,Y):\n",
    "    l=[0,0,0]\n",
    "    for i,x in enumerate(X) : \n",
    "        l+=-Grad_l(w,x,Y[i])\n",
    "    return l \n"
   ]
  },
  {
   "cell_type": "code",
   "execution_count": 47,
   "metadata": {},
   "outputs": [],
   "source": [
    "from scipy.optimize import minimize \n",
    "def logistic_reg(X,y):\n",
    "    X = np.c_[np.ones((X.shape[0], 1)), X]\n",
    "    y = y[:, np.newaxis]\n",
    "    w0=np.zeros((X.shape[1], 1))\n",
    "    return minimize(sample_neg_logl,w0,args=(X,y),method='BFGS',jac=sample_neg_gradlogl).x"
   ]
  },
  {
   "cell_type": "code",
   "execution_count": 48,
   "metadata": {},
   "outputs": [
    {
     "name": "stdout",
     "output_type": "stream",
     "text": [
      "[18.80703925 -0.27693433 -1.91419826]\n"
     ]
    }
   ],
   "source": [
    "w_sol=logistic_reg(X,y)\n",
    "print(w_sol)"
   ]
  },
  {
   "cell_type": "markdown",
   "metadata": {},
   "source": [
    "now we can plot $p(y=1|x)=0.5 \\iff 0.5=\\sigma(w^Tx)\\iff w^Tx=0$\n",
    "$$\\\\ w= \\begin{pmatrix}w_1\\\\w_2\\\\w_3\\end{pmatrix},\\quad x=\\begin{pmatrix}1\\\\x_1\\\\x_2\\end{pmatrix} \\implies \\quad x_2=-\\frac{w_2}{w_3}x1-\\frac{w_1}{w_3} $$"
   ]
  },
  {
   "cell_type": "code",
   "execution_count": 49,
   "metadata": {},
   "outputs": [
    {
     "data": {
      "image/png": "[encoded data removed]",
      "text/plain": [
       "<Figure size 432x288 with 1 Axes>"
      ]
     },
     "metadata": {},
     "output_type": "display_data"
    }
   ],
   "source": [
    "# plots\n",
    "class_1 = A_train.loc[y == 1]\n",
    "class_0 = A_train.loc[y == 0]\n",
    "plt.scatter(class_1.iloc[:, 0], class_1.iloc[:, 1], s=10, label='class_1')\n",
    "plt.scatter(class_0.iloc[:, 0], class_0.iloc[:, 1], s=10, label='class_0')\n",
    "x_1=np.linspace(8,14,100)\n",
    "x_2=[-w_sol[1]*x/w_sol[2]-w_sol[0]/w_sol[2] for x in x_1]\n",
    "plt.plot(x_1,x_2)\n",
    "plt.legend()\n",
    "plt.show()"
   ]
  },
  {
   "cell_type": "markdown",
   "metadata": {},
   "source": [
    "### 3. Linear regression"
   ]
  },
  {
   "cell_type": "markdown",
   "metadata": {},
   "source": [
    "in linear regression (Conditional Model) we model the distribution of X given Y by : \n",
    "$$Y|X \\sim  \\mathcal{N} (w^TX+b,\\sigma^2) \\quad \\iff Y|X \\sim  \\mathcal{N} (\\tilde{w}^T\\begin{pmatrix} X\\\\ 1\\end{pmatrix},\\sigma^2)$$\n",
    "$$\\hat{w}=(X^TX)^{-1}X^Ty$$"
   ]
  },
  {
   "cell_type": "code",
   "execution_count": 50,
   "metadata": {},
   "outputs": [],
   "source": [
    "\n",
    "def linear_reg(X,y):\n",
    "    X = np.c_[np.ones((X.shape[0], 1)), X]\n",
    "    y = y[:, np.newaxis]\n",
    "    return np.dot(np.dot(np.linalg.inv(np.dot(X.T,X)),X.T),y)"
   ]
  },
  {
   "cell_type": "code",
   "execution_count": 51,
   "metadata": {
    "scrolled": true
   },
   "outputs": [
    {
     "data": {
      "image/png": "[encoded data removed]",
      "text/plain": [
       "<Figure size 432x288 with 1 Axes>"
      ]
     },
     "metadata": {},
     "output_type": "display_data"
    }
   ],
   "source": [
    "# plots\n",
    "# X = feature values, all the columns except the last column\n",
    "A_train=train[0]\n",
    "X = A_train.iloc[:, :-1]\n",
    "y = A_train.iloc[:, -1]\n",
    "class_1 = A_train.loc[y == 1]\n",
    "class_0 = A_train.loc[y == 0]\n",
    "# y = target values, last column of the data frame\n",
    "\n",
    "w_hat =linear_reg(X,y)\n",
    "plt.scatter(class_1.iloc[:, 0], class_1.iloc[:, 1], s=10, label='class_1')\n",
    "plt.scatter(class_0.iloc[:, 0], class_0.iloc[:, 1], s=10, label='class_0')\n",
    "x_1=np.linspace(8,14,100)\n",
    "x_2=[-w_hat[1]*x/w_hat[2]-w_hat[0]/w_hat[2]+0.5/w_hat[2] for x in x_1]\n",
    "plt.plot(x_1,x_2)\n",
    "plt.legend()\n",
    "plt.show()"
   ]
  },
  {
   "cell_type": "markdown",
   "metadata": {},
   "source": [
    "### 4. Application"
   ]
  },
  {
   "cell_type": "code",
   "execution_count": 52,
   "metadata": {},
   "outputs": [],
   "source": [
    "W_log=[]\n",
    "W_lin=[]\n",
    "for i in train :\n",
    "    X = i.iloc[:, :-1]\n",
    "    y = i.iloc[:, -1]\n",
    "    W_log+=[logistic_reg(X,y)]\n",
    "    W_lin+=[linear_reg(X,y)]\n"
   ]
  },
  {
   "cell_type": "markdown",
   "metadata": {},
   "source": [
    "Training error "
   ]
  },
  {
   "cell_type": "code",
   "execution_count": 53,
   "metadata": {},
   "outputs": [
    {
     "name": "stdout",
     "output_type": "stream",
     "text": [
      "Linear regression  \n",
      "\n",
      "Train error on setA :0.00 \n",
      "Train error on setB :0.02 \n",
      "Train error on setC :0.03 \n",
      "\n",
      "logistic regression  \n",
      "\n",
      " Train error on setA :0.00 \n",
      " Train error on setB :0.01 \n",
      " Train error on setC :0.03 \n",
      "\n",
      "Generative Model \n",
      "\n",
      " Train error on setA :0.00 \n",
      " Train error on setB :0.02 \n",
      " Train error on setC :0.03 \n"
     ]
    }
   ],
   "source": [
    "y_pred_lin=[]\n",
    "y_pred_log=[]\n",
    "y_pred_LDA=[]\n",
    "Y=[]\n",
    "for a,i in enumerate(train): \n",
    "    x = i.iloc[:, :-1]\n",
    "    y = i.iloc[:, -1]\n",
    "    X = np.c_[np.ones((x.shape[0], 1)), x]\n",
    "    Y += [y[:, np.newaxis]]\n",
    "    y_pred_lin+=[np.round(np.dot(X,W_lin[a])).astype(int)]\n",
    "    y_pred_log+=[np.round(sigmoid(np.dot(X,W_log[a]))).astype(int)]\n",
    "    x_LDA = np.array(train[a].loc[:,0:1],dtype=\"float\")\n",
    "    y_LDA = np.array(train[a].loc[:,2],dtype=\"float\")\n",
    "    p = pi_estimator(y_LDA)\n",
    "    estimator = LDA_estimator(x_LDA,y_LDA)\n",
    "    LDA = np.array([np.round(one_x_dist(p,estimator,u.reshape((2,1)))).astype(int) for u in x_LDA])\n",
    "    y_pred_LDA+=[LDA]\n",
    "\n",
    "from sklearn.metrics import accuracy_score\n",
    "print('Linear regression  \\n')\n",
    "for i in range(len(y_pred_lin)):\n",
    "    L='ABC'\n",
    "    print('Train error on set'+L[i]+' :%.2f '% (1-accuracy_score(Y[i],y_pred_lin[i])))\n",
    "print('\\nlogistic regression  \\n')\n",
    "for i in range(len(y_pred_log)):\n",
    "    L='ABC'\n",
    "    print(' Train error on set'+L[i]+' :%.2f '% (1-accuracy_score(Y[i],y_pred_log[i])))\n",
    "print('\\nGenerative Model \\n')\n",
    "for i in range(len(y_pred_LDA)):\n",
    "    L='ABC'\n",
    "    print(' Train error on set'+L[i]+' :%.2f '% (1-accuracy_score(Y[i],y_pred_LDA[i])))\n",
    "\n"
   ]
  },
  {
   "cell_type": "markdown",
   "metadata": {},
   "source": [
    "error on test "
   ]
  },
  {
   "cell_type": "code",
   "execution_count": 54,
   "metadata": {
    "scrolled": true
   },
   "outputs": [
    {
     "name": "stdout",
     "output_type": "stream",
     "text": [
      "Linear regression  \n",
      "\n",
      "Test error on setA :0.01 \n",
      "Test error on setB :0.06 \n",
      "Test error on setC :0.04 \n",
      "\n",
      "logistic regression  \n",
      "\n",
      " Test error on setA :0.01 \n",
      " Test error on setB :0.04 \n",
      " Test error on setC :0.05 \n",
      "\n",
      "Generative Model \n",
      "\n",
      " Test error on setA :0.01 \n",
      " Test error on setB :0.05 \n",
      " Test error on setC :0.04 \n"
     ]
    }
   ],
   "source": [
    "y_pred_lin=[]\n",
    "y_pred_log=[]\n",
    "y_pred_LDA=[]\n",
    "Y=[]\n",
    "for a,i in enumerate(test): \n",
    "    x = i.iloc[:, :-1]\n",
    "    y = i.iloc[:, -1]\n",
    "    X = np.c_[np.ones((x.shape[0], 1)), x]\n",
    "    Y += [y[:, np.newaxis]]\n",
    "    y_pred_lin+=[np.round(np.dot(X,W_lin[a])).astype(int)]\n",
    "    y_pred_log+=[np.round(sigmoid(np.dot(X,W_log[a]))).astype(int)]\n",
    "    x_LDA = np.array(train[a].loc[:,0:1],dtype=\"float\")\n",
    "    y_LDA = np.array(train[a].loc[:,2],dtype=\"float\")\n",
    "    p = pi_estimator(y_LDA)\n",
    "    estimator = LDA_estimator(x_LDA,y_LDA)\n",
    "    LDA = np.array([np.round(one_x_dist(p,estimator,u.reshape((2,1)))).astype(int) for u in np.array(test[a].loc[:,0:1],dtype=\"float\")])\n",
    "    y_pred_LDA+=[LDA]\n",
    "    \n",
    "from sklearn.metrics import accuracy_score\n",
    "print('Linear regression  \\n')\n",
    "for i in range(len(y_pred_lin)):\n",
    "    L='ABC'\n",
    "    print('Test error on set'+L[i]+' :%.2f '% (1-accuracy_score(Y[i],y_pred_lin[i])))\n",
    "print('\\nlogistic regression  \\n')\n",
    "for i in range(len(y_pred_log)):\n",
    "    L='ABC'\n",
    "    print(' Test error on set'+L[i]+' :%.2f '% (1-accuracy_score(Y[i],y_pred_log[i])))\n",
    "print('\\nGenerative Model \\n')\n",
    "for i in range(len(y_pred_LDA)):\n",
    "    L='ABC'\n",
    "    print(' Test error on set'+L[i]+' :%.2f '% (1-accuracy_score(Y[i],y_pred_LDA[i])))\n",
    "\n"
   ]
  },
  {
   "cell_type": "markdown",
   "metadata": {},
   "source": [
    "Obviously, training error is lower than test error, which totally normal since the model is trying to predict the labels of data that it has never seen before. \n",
    "Performance of the three models on both training and test datasets is very similar with a slight performance increase for logistic regression on data set B , and a slight performance increase for linear regression and the Generative model on data set C "
   ]
  },
  {
   "cell_type": "markdown",
   "metadata": {},
   "source": [
    "### 5. QDA model"
   ]
  },
  {
   "cell_type": "markdown",
   "metadata": {},
   "source": [
    "        a. Please find the determination of the estimators in the joined PDF"
   ]
  },
  {
   "cell_type": "code",
   "execution_count": 55,
   "metadata": {},
   "outputs": [],
   "source": [
    "A_train=train[2]\n",
    "x = np.array(A_train.loc[:,0:1],dtype=\"float\")\n",
    "y = np.array(A_train.loc[:,2],dtype=\"float\")\n",
    "\n",
    "def QDA_estimator(x,y):\n",
    "    Nu_0 = np.array([0,0],dtype=\"float\").reshape((2,1))\n",
    "    Nu_1 = np.array([0,0],dtype=\"float\").reshape((2,1))\n",
    "    sigma_1 = np.array([[0,0],\n",
    "                      [0,0]],dtype=\"float\")\n",
    "    sigma_0 = np.array([[0,0],\n",
    "                      [0,0]],dtype=\"float\")\n",
    "    A=0\n",
    "    B=0\n",
    "    for k in range(len(y)):\n",
    "        xk = x[k].reshape((2,1))\n",
    "        Nu_0[0] = Nu_0[0] + (1-y[k])*x[k,0]\n",
    "        Nu_0[1] = Nu_0[1] + (1-y[k])*x[k,1]\n",
    "        Nu_1[0] = Nu_1[0] + y[k]*x[k,0]\n",
    "        Nu_1[1] = Nu_1[1] + y[k]*x[k,1]\n",
    "        sigma_0 = sigma_0 + (1-y[k])*np.dot(xk-Nu_0,np.transpose(xk-Nu_0))\n",
    "        sigma_1 = sigma_1 + y[k]*np.dot(xk-Nu_1,np.transpose(xk-Nu_1))\n",
    "        A = A + (1-y[k])\n",
    "        B = B + y[k]\n",
    "    Nu_0[0] = Nu_0[0]/A\n",
    "    Nu_0[1] = Nu_0[1]/A\n",
    "    sigma_0 = sigma_0/A\n",
    "    Nu_1[0] = Nu_1[0]/B\n",
    "    Nu_1[1] = Nu_1[1]/B\n",
    "    sigma_1 = sigma_1/B\n",
    "\n",
    "    \n",
    "    return(Nu_0,Nu_1,sigma_0,sigma_1)\n",
    "\n",
    "Nu_0,Nu_1,sigma_0,sigma_1 = QDA_estimator(x,y)\n",
    "\n"
   ]
  },
  {
   "cell_type": "code",
   "execution_count": 56,
   "metadata": {},
   "outputs": [],
   "source": [
    "def one_x_dist_QDA(p,estimator,x):\n",
    "    Nu_0,Nu_1,sigma_0,sigma_1 = estimator\n",
    "    return(p*Gauss(Nu_1,sigma_1,x)/(p*Gauss(Nu_1,sigma_1,x)+(1-p)*Gauss(Nu_0,sigma_0,x)))"
   ]
  },
  {
   "cell_type": "code",
   "execution_count": 57,
   "metadata": {},
   "outputs": [],
   "source": [
    "p = pi_estimator(y)\n",
    "estimator = QDA_estimator(x,y)\n",
    "def sep_line(u):\n",
    "    f = lambda v: one_x_dist_QDA(p,estimator,np.array([u,v]).reshape((2,1)))\n",
    "    return(inversefunc(f, y_values=0.5))"
   ]
  },
  {
   "cell_type": "code",
   "execution_count": 58,
   "metadata": {},
   "outputs": [
    {
     "data": {
      "text/plain": [
       "[<matplotlib.lines.Line2D at 0x1a2108e128>]"
      ]
     },
     "execution_count": 58,
     "metadata": {},
     "output_type": "execute_result"
    },
    {
     "data": {
      "image/png": "[encoded data removed]",
      "text/plain": [
       "<Figure size 432x288 with 1 Axes>"
      ]
     },
     "metadata": {},
     "output_type": "display_data"
    }
   ],
   "source": [
    "plt.scatter(x[:,0],x[:,1],c=y)\n",
    "x0 = np.linspace(8,14,1000)\n",
    "y0 = [sep_line(u) for u in x0]\n",
    "plt.plot(x0,y0)"
   ]
  },
  {
   "cell_type": "code",
   "execution_count": 59,
   "metadata": {},
   "outputs": [
    {
     "name": "stdout",
     "output_type": "stream",
     "text": [
      "QDA Model  \n",
      "\n",
      "Train error on setA :0.00 \n",
      "Train error on setB :0.03 \n",
      "Train error on setC :0.06 \n"
     ]
    }
   ],
   "source": [
    "y_pred_QDA=[]\n",
    "Y=[]\n",
    "for a,i in enumerate(train): \n",
    "    y = i.iloc[:, -1]\n",
    "    Y += [y[:, np.newaxis]]\n",
    "    x_QDA = np.array(train[a].loc[:,0:1],dtype=\"float\")\n",
    "    y_QDA = np.array(train[a].loc[:,2],dtype=\"float\")\n",
    "    p = pi_estimator(y_QDA)\n",
    "    estimator = QDA_estimator(x_QDA,y_QDA)\n",
    "    QDA = np.array([np.round(one_x_dist_QDA(p,estimator,u.reshape((2,1)))).astype(int) for u in x_QDA])\n",
    "    y_pred_QDA+=[QDA]\n",
    "\n",
    "from sklearn.metrics import accuracy_score\n",
    "print('QDA Model  \\n')\n",
    "for i in range(len(y_pred_QDA)):\n",
    "    L='ABC'\n",
    "    print('Train error on set'+L[i]+' :%.2f '% (1-accuracy_score(Y[i],y_pred_QDA[i])))\n"
   ]
  },
  {
   "cell_type": "code",
   "execution_count": 60,
   "metadata": {},
   "outputs": [
    {
     "name": "stdout",
     "output_type": "stream",
     "text": [
      "QDA Model  \n",
      "\n",
      "Test error on setA :0.01 \n",
      "Test error on setB :0.06 \n",
      "Test error on setC :0.06 \n"
     ]
    }
   ],
   "source": [
    "y_pred_QDA=[]\n",
    "Y=[]\n",
    "for a,i in enumerate(test): \n",
    "    y = i.iloc[:, -1]\n",
    "    Y += [y[:, np.newaxis]]\n",
    "    x_QDA = np.array(train[a].loc[:,0:1],dtype=\"float\")\n",
    "    y_QDA = np.array(train[a].loc[:,2],dtype=\"float\")\n",
    "    p = pi_estimator(y_QDA)\n",
    "    estimator = QDA_estimator(x_QDA,y_QDA)\n",
    "    QDA = np.array([np.round(one_x_dist_QDA(p,estimator,u.reshape((2,1)))).astype(int) for u in np.array(test[a].loc[:,0:1],dtype=\"float\")])\n",
    "    y_pred_QDA+=[QDA]\n",
    "\n",
    "from sklearn.metrics import accuracy_score\n",
    "print('QDA Model  \\n')\n",
    "for i in range(len(y_pred_QDA)):\n",
    "    L='ABC'\n",
    "    print('Test error on set'+L[i]+' :%.2f '% (1-accuracy_score(Y[i],y_pred_QDA[i])))\n"
   ]
  },
  {
   "cell_type": "markdown",
   "metadata": {},
   "source": [
    "The QDA model's performance is lower than all the other models (LDA, logistic and linear regression) in both training and test in all sets. This is interesting as we may think that it should perform better than LDA as it's a more general model. This can be explained by the fact that the variance characteristic is common for both classes 0 and 1 and should then be learned accross all inputs x independently from their classes."
   ]
  }
 ],
 "metadata": {
  "kernelspec": {
   "display_name": "Python 3",
   "language": "python",
   "name": "python3"
  },
  "language_info": {
   "codemirror_mode": {
    "name": "ipython",
    "version": 3
   },
   "file_extension": ".py",
   "mimetype": "text/x-python",
   "name": "python",
   "nbconvert_exporter": "python",
   "pygments_lexer": "ipython3",
   "version": "3.6.5"
  }
 },
 "nbformat": 4,
 "nbformat_minor": 2
}
